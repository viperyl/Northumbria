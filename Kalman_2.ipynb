{
 "cells": [
  {
   "cell_type": "markdown",
   "metadata": {},
   "source": [
    "##### Discrete Bayes Filter"
   ]
  },
  {
   "cell_type": "code",
   "execution_count": 1,
   "metadata": {},
   "outputs": [],
   "source": [
    "import numpy as np\n",
    "from kf_book.book_plots import figsize, set_figsize\n",
    "import matplotlib.pyplot as plt\n",
    "import kf_book.book_plots as book_plots"
   ]
  },
  {
   "cell_type": "code",
   "execution_count": 2,
   "metadata": {},
   "outputs": [
    {
     "name": "stdout",
     "output_type": "stream",
     "text": [
      "[0.1 0.1 0.1 0.1 0.1 0.1 0.1 0.1 0.1 0.1]\n"
     ]
    }
   ],
   "source": [
    "belief = np.array([1/10]*10)\n",
    "print(belief)"
   ]
  },
  {
   "cell_type": "code",
   "execution_count": 3,
   "metadata": {},
   "outputs": [
    {
     "data": {
      "image/png": "[encoded data removed]",
      "text/plain": [
       "<Figure size 432x288 with 1 Axes>"
      ]
     },
     "metadata": {
      "needs_background": "light"
     },
     "output_type": "display_data"
    }
   ],
   "source": [
    "hallway = np.array([1, 1, 0, 0, 0, 0, 0, 0, 1, 0])\n",
    "belief = hallway/3\n",
    "book_plots.bar_plot(belief)"
   ]
  },
  {
   "cell_type": "code",
   "execution_count": 4,
   "metadata": {},
   "outputs": [
    {
     "name": "stdout",
     "output_type": "stream",
     "text": [
      "belief:  [0.3 0.3 0.1 0.1 0.1 0.1 0.1 0.1 0.3 0.1]\n",
      "sum =  1.6000000000000003\n"
     ]
    },
    {
     "data": {
      "image/png": "[encoded data removed]",
      "text/plain": [
       "<Figure size 432x288 with 1 Axes>"
      ]
     },
     "metadata": {
      "needs_background": "light"
     },
     "output_type": "display_data"
    }
   ],
   "source": [
    "def update_belief(hall, belief, z, correct_scale):\n",
    "    for i, val in enumerate(hall):\n",
    "        if val == z:\n",
    "            belief[i] *= correct_scale\n",
    "\n",
    "belief = np.array([0.1]*10)\n",
    "reading = 1 # Door\n",
    "update_belief(hallway, belief, z = reading, correct_scale = 3)\n",
    "\n",
    "print('belief: ', belief)\n",
    "print('sum = ', sum(belief))\n",
    "book_plots.bar_plot(belief)"
   ]
  },
  {
   "cell_type": "code",
   "execution_count": 5,
   "metadata": {},
   "outputs": [
    {
     "name": "stdout",
     "output_type": "stream",
     "text": [
      "belief:  [0.1875 0.1875 0.0625 0.0625 0.0625 0.0625 0.0625 0.0625 0.1875 0.0625]\n",
      "sum =  1.0\n"
     ]
    },
    {
     "data": {
      "image/png": "[encoded data removed]",
      "text/plain": [
       "<Figure size 432x288 with 1 Axes>"
      ]
     },
     "metadata": {
      "needs_background": "light"
     },
     "output_type": "display_data"
    }
   ],
   "source": [
    "belief = belief/sum(belief)\n",
    "print('belief: ', belief)\n",
    "print('sum = ', sum(belief))\n",
    "book_plots.bar_plot(belief)"
   ]
  },
  {
   "cell_type": "code",
   "execution_count": 6,
   "metadata": {},
   "outputs": [
    {
     "name": "stdout",
     "output_type": "stream",
     "text": [
      "[0.3 0.3 0.1 0.1 0.1 0.1 0.1 0.1 0.3 0.1]\n"
     ]
    }
   ],
   "source": [
    "belief = np.array([0.1] * 10)\n",
    "belief[hallway == reading] *= 3\n",
    "print(belief)"
   ]
  },
  {
   "cell_type": "code",
   "execution_count": 7,
   "metadata": {},
   "outputs": [
    {
     "name": "stdout",
     "output_type": "stream",
     "text": [
      "sum =  1.0\n",
      "probalility of door:  0.1875\n",
      "probalility of wall:  0.06249999999999999\n"
     ]
    },
    {
     "data": {
      "image/png": "[encoded data removed]",
      "text/plain": [
       "<Figure size 432x288 with 1 Axes>"
      ]
     },
     "metadata": {
      "needs_background": "light"
     },
     "output_type": "display_data"
    }
   ],
   "source": [
    "def scaled_update(hall, belief, z, z_prob):\n",
    "    scale = z_prob / (1 - z_prob)\n",
    "    belief[hall == z] *= scale\n",
    "    belief = belief/np.sum(belief)\n",
    "    return  belief\n",
    "\n",
    "belief = np.array([0.1] * 10)\n",
    "belief = scaled_update(hallway, belief, z = 1, z_prob = 0.75)\n",
    "print('sum = ', sum(belief))\n",
    "print('probalility of door: ', belief[0])\n",
    "print('probalility of wall: ', belief[2])\n",
    "book_plots.bar_plot(belief, ylim = (0, 0.3))"
   ]
  },
  {
   "cell_type": "code",
   "execution_count": 8,
   "metadata": {},
   "outputs": [],
   "source": [
    "def scaled_update(hall, belief, z, z_prob):\n",
    "    scale = z_prob/(1 - z_prob)\n",
    "    likelihood = np.ones(len(hall))\n",
    "    likelihood[hall == z] *= scale\n",
    "    return likelihood * belief/np.sum(likelihood * belief)"
   ]
  },
  {
   "cell_type": "code",
   "execution_count": 9,
   "metadata": {},
   "outputs": [
    {
     "data": {
      "text/plain": [
       "array([0.1875, 0.1875, 0.0625, 0.0625, 0.0625, 0.0625, 0.0625, 0.0625,\n",
       "       0.1875, 0.0625])"
      ]
     },
     "execution_count": 9,
     "metadata": {},
     "output_type": "execute_result"
    }
   ],
   "source": [
    "def update(likelihood, prior):\n",
    "    return likelihood * belief/np.sum(likelihood * belief)\n",
    "\n",
    "def lh_hallway(hall, z, z_prob):\n",
    "    try:\n",
    "        scale = z_prob/(1 - z_prob)\n",
    "    except ZeroDivisionError:\n",
    "        scale = 1e8\n",
    "    likelihood = np.ones(len(hall))\n",
    "    likelihood[hall == z] *= scale\n",
    "    return likelihood\n",
    "\n",
    "belief = np.array([0.1]*10)\n",
    "likelihood = lh_hallway(hallway, z = 1, z_prob = 0.75)\n",
    "update(likelihood, belief)"
   ]
  },
  {
   "cell_type": "code",
   "execution_count": 10,
   "metadata": {},
   "outputs": [],
   "source": [
    "def perfect_predict(belief, move):\n",
    "    n = len(belief)\n",
    "    result = np.zeros(n)\n",
    "    for i in range(n):\n",
    "        result[i] = belief[(i - move)]\n",
    "    return result"
   ]
  },
  {
   "cell_type": "code",
   "execution_count": 11,
   "metadata": {},
   "outputs": [
    {
     "data": {
      "image/png": "[encoded data removed]",
      "text/plain": [
       "<Figure size 432x288 with 2 Axes>"
      ]
     },
     "metadata": {
      "needs_background": "light"
     },
     "output_type": "display_data"
    }
   ],
   "source": [
    "belief = np.array([0.35, 0.1, 0.2, 0.3, 0, 0, 0, 0, 0, 0.05])\n",
    "plt.subplot(121)\n",
    "book_plots.bar_plot(belief, title = 'Before prediction', ylim = (0, 0.4))\n",
    "\n",
    "belief = perfect_predict(belief, 1)\n",
    "plt.subplot(122)\n",
    "book_plots.bar_plot(belief, title = 'After prediction', ylim = (0, 0.4))"
   ]
  },
  {
   "cell_type": "code",
   "execution_count": 12,
   "metadata": {},
   "outputs": [
    {
     "data": {
      "image/png": "[encoded data removed]",
      "text/plain": [
       "<Figure size 432x288 with 1 Axes>"
      ]
     },
     "metadata": {
      "needs_background": "light"
     },
     "output_type": "display_data"
    },
    {
     "data": {
      "text/plain": [
       "<function __main__.simulate(time_step)>"
      ]
     },
     "execution_count": 12,
     "metadata": {},
     "output_type": "execute_result"
    }
   ],
   "source": [
    "from ipywidgets import interact, IntSlider\n",
    "\n",
    "belief = np.array([0.35, 0.1, 0.2, 0.3, 0, 0, 0, 0, 0, 0.05])\n",
    "beliefs = []\n",
    "\n",
    "for _ in range(20):\n",
    "    belief = perfect_predict(belief, 1)\n",
    "    beliefs.append(belief)\n",
    "\n",
    "def simulate(time_step):\n",
    "    book_plots.bar_plot(beliefs[time_step], ylim = (0, 0.4))\n",
    "\n",
    "interact(simulate, time_step = IntSlider(value = 0, max = len(beliefs) - 1))"
   ]
  },
  {
   "cell_type": "code",
   "execution_count": 13,
   "metadata": {},
   "outputs": [
    {
     "data": {
      "image/png": "[encoded data removed]",
      "text/plain": [
       "<Figure size 432x288 with 2 Axes>"
      ]
     },
     "metadata": {
      "needs_background": "light"
     },
     "output_type": "display_data"
    }
   ],
   "source": [
    "def perfect_move(belief, move, p_under, p_correct, p_over):\n",
    "    n = len(belief)\n",
    "    prior = np.zeros(n)\n",
    "    for i in range(n):\n",
    "        prior[i] =(\n",
    "            belief[i - move] * p_correct + \n",
    "            belief[i - move - 1] * p_over + \n",
    "            belief[i - move + 1] * p_under\n",
    "        ) \n",
    "    return prior\n",
    "\n",
    "belief = np.zeros(10)\n",
    "belief[3] = 1\n",
    "\n",
    "prior = perfect_move(belief, 2, 0.1, 0.8, 0.1)\n",
    "book_plots.plot_belief_vs_prior(belief, prior)"
   ]
  },
  {
   "cell_type": "code",
   "execution_count": 14,
   "metadata": {},
   "outputs": [
    {
     "data": {
      "image/png": "[encoded data removed]",
      "text/plain": [
       "<Figure size 432x288 with 2 Axes>"
      ]
     },
     "metadata": {
      "needs_background": "light"
     },
     "output_type": "display_data"
    }
   ],
   "source": [
    "belief = np.zeros(10)\n",
    "belief[2] = 0.4\n",
    "belief[3] = 0.6\n",
    "\n",
    "prior = perfect_move(belief, 2, 0.1, 0.8, 0.1)\n",
    "book_plots.plot_belief_vs_prior(belief, prior)"
   ]
  },
  {
   "cell_type": "code",
   "execution_count": 15,
   "metadata": {},
   "outputs": [
    {
     "data": {
      "image/png": "[encoded data removed]",
      "text/plain": [
       "<Figure size 432x288 with 1 Axes>"
      ]
     },
     "metadata": {
      "needs_background": "light"
     },
     "output_type": "display_data"
    },
    {
     "data": {
      "text/plain": [
       "<function __main__.show_prior(step)>"
      ]
     },
     "execution_count": 15,
     "metadata": {},
     "output_type": "execute_result"
    }
   ],
   "source": [
    "belief = np.zeros(10)\n",
    "belief[0] = 1\n",
    "beliefs = []\n",
    "\n",
    "for i in range(100):\n",
    "    belief = perfect_move(belief, 1, 0.1, 0.8, 0.1)\n",
    "    beliefs.append(belief)\n",
    "\n",
    "def show_prior(step):\n",
    "    book_plots.bar_plot(beliefs[step - 1])\n",
    "    plt.title('Step {}'.format(step))\n",
    "\n",
    "interact(show_prior, step = IntSlider(value = 1, max = len(beliefs)))"
   ]
  },
  {
   "cell_type": "code",
   "execution_count": 16,
   "metadata": {},
   "outputs": [
    {
     "name": "stdout",
     "output_type": "stream",
     "text": [
      "Final Belief:  [0.10407069 0.10329322 0.10125784 0.09874205 0.09670682 0.09592945\n",
      " 0.09670682 0.09874205 0.10125784 0.10329322]\n"
     ]
    }
   ],
   "source": [
    "print('Final Belief: ', belief)"
   ]
  },
  {
   "cell_type": "markdown",
   "metadata": {},
   "source": [
    "## Convolution\n",
    "1. For continuous function\n",
    "\n",
    "$$\\Huge (f*g)(t) = \\int_{0}^{t} f(\\tau)g(t-\\tau) d\\tau$$\n",
    "\n",
    "2. For discrete function\n",
    "\n",
    "$$\\Huge (f*g)[t] = \\sum_{\\tau = 0}^{t} f[\\tau]g[t-\\tau] $$\n"
   ]
  },
  {
   "cell_type": "code",
   "execution_count": 17,
   "metadata": {},
   "outputs": [],
   "source": [
    "def predict_move_convolution(pdf, offset, kernel):\n",
    "    N = len(pdf)\n",
    "    kN = len(kernel)\n",
    "    width = int((kN - 1)/2)\n",
    "    \n",
    "    prior = np.zeros(N)\n",
    "    \n",
    "    for i in range(N):\n",
    "        for k in range(kN):\n",
    "            index = (i + (width - k) - offset) % N\n",
    "            prior[i] += pdf[index] * kernel[k]\n",
    "    return prior"
   ]
  },
  {
   "cell_type": "code",
   "execution_count": 18,
   "metadata": {},
   "outputs": [],
   "source": [
    "from scipy.ndimage.filters import convolve\n",
    "from scipy.ndimage.interpolation import shift\n",
    "\n",
    "def predict(pdf, offset, kernel, mode='wrap', cval=0.):\n",
    "    if mode == 'wrap':\n",
    "        return convolve(np.roll(pdf, offset), kernel, mode='wrap')\n",
    "\n",
    "    return convolve(shift(pdf, offset, cval=cval), kernel,\n",
    "                    cval=cval, mode='constant')"
   ]
  },
  {
   "cell_type": "code",
   "execution_count": 19,
   "metadata": {},
   "outputs": [
    {
     "data": {
      "image/png": "[encoded data removed]",
      "text/plain": [
       "<Figure size 432x288 with 2 Axes>"
      ]
     },
     "metadata": {
      "needs_background": "light"
     },
     "output_type": "display_data"
    }
   ],
   "source": [
    "belief = np.ones(10) * 0.05\n",
    "belief[4] = 0.55\n",
    "prior = predict(belief, offset = 1, kernel = [0.1, 0.8, 0.1])\n",
    "book_plots.plot_belief_vs_prior(belief, prior, ylim = (0, 0.6))"
   ]
  },
  {
   "cell_type": "code",
   "execution_count": 20,
   "metadata": {},
   "outputs": [
    {
     "data": {
      "image/png": "[encoded data removed]",
      "text/plain": [
       "<Figure size 432x288 with 2 Axes>"
      ]
     },
     "metadata": {
      "needs_background": "light"
     },
     "output_type": "display_data"
    }
   ],
   "source": [
    "prior = predict(belief, offset = 3, kernel = [0.05, 0.05, 0.6, 0.2, 0.1])\n",
    "book_plots.plot_belief_vs_prior(belief, prior, ylim  = (0, 0.6))"
   ]
  },
  {
   "cell_type": "code",
   "execution_count": 21,
   "metadata": {},
   "outputs": [],
   "source": [
    "def update(likelihood, prior):\n",
    "    return likelihood * prior/np.sum(likelihood * prior)"
   ]
  },
  {
   "cell_type": "code",
   "execution_count": 22,
   "metadata": {},
   "outputs": [
    {
     "data": {
      "image/png": "[encoded data removed]",
      "text/plain": [
       "<Figure size 432x288 with 2 Axes>"
      ]
     },
     "metadata": {
      "needs_background": "light"
     },
     "output_type": "display_data"
    }
   ],
   "source": [
    "hallway = np.array([1, 1, 0, 0, 0, 0, 0, 0, 1, 0])\n",
    "prior = np.array([0.1] * 10)\n",
    "likelihood =  lh_hallway(hallway, z = 1, z_prob = 0.75)\n",
    "posterior = update(likelihood, prior)\n",
    "book_plots.plot_prior_vs_posterior(prior, posterior, ylim = (0, 0.5))"
   ]
  },
  {
   "cell_type": "code",
   "execution_count": 23,
   "metadata": {},
   "outputs": [
    {
     "data": {
      "image/png": "[encoded data removed]",
      "text/plain": [
       "<Figure size 432x288 with 2 Axes>"
      ]
     },
     "metadata": {
      "needs_background": "light"
     },
     "output_type": "display_data"
    }
   ],
   "source": [
    "kernel = [0.1, 0.8, 0.1]\n",
    "prior = predict(posterior, 1, kernel)\n",
    "book_plots.plot_prior_vs_posterior(prior, posterior, True, ylim = (0, 0.6))"
   ]
  },
  {
   "cell_type": "code",
   "execution_count": 24,
   "metadata": {},
   "outputs": [
    {
     "data": {
      "image/png": "[encoded data removed]",
      "text/plain": [
       "<Figure size 432x288 with 2 Axes>"
      ]
     },
     "metadata": {
      "needs_background": "light"
     },
     "output_type": "display_data"
    }
   ],
   "source": [
    "likelihood = lh_hallway(hallway, z = 1, z_prob = 0.75)\n",
    "posterior = update(likelihood, prior)\n",
    "book_plots.plot_prior_vs_posterior(prior, posterior, ylim = (0, 0.5))"
   ]
  },
  {
   "cell_type": "code",
   "execution_count": 25,
   "metadata": {},
   "outputs": [
    {
     "data": {
      "image/png": "[encoded data removed]",
      "text/plain": [
       "<Figure size 432x288 with 2 Axes>"
      ]
     },
     "metadata": {
      "needs_background": "light"
     },
     "output_type": "display_data"
    }
   ],
   "source": [
    "prior = predict(posterior, 1, kernel)\n",
    "likelihood = lh_hallway(hallway, z = 0, z_prob = 0.75)\n",
    "posterior = update(likelihood, prior)\n",
    "book_plots.plot_prior_vs_posterior(prior, posterior, ylim = (0, 0.5))"
   ]
  },
  {
   "cell_type": "code",
   "execution_count": 26,
   "metadata": {},
   "outputs": [
    {
     "data": {
      "image/png": "[encoded data removed]",
      "text/plain": [
       "<Figure size 432x288 with 2 Axes>"
      ]
     },
     "metadata": {
      "needs_background": "light"
     },
     "output_type": "display_data"
    }
   ],
   "source": [
    "prior = predict(posterior, 1, kernel)\n",
    "likelihood = lh_hallway(hallway, z = 0, z_prob = 0.75)\n",
    "posterior = update(likelihood, prior)\n",
    "book_plots.plot_prior_vs_posterior(prior, posterior, ylim = (0, 0.5))"
   ]
  },
  {
   "cell_type": "code",
   "execution_count": 27,
   "metadata": {},
   "outputs": [
    {
     "data": {
      "image/png": "[encoded data removed]",
      "text/plain": [
       "<Figure size 288x288 with 1 Axes>"
      ]
     },
     "metadata": {},
     "output_type": "display_data"
    }
   ],
   "source": [
    "book_plots.predict_update_chart()"
   ]
  },
  {
   "cell_type": "markdown",
   "metadata": {},
   "source": [
    "## Initialization\n",
    "\n",
    "1. Initialize our belief in the state\n",
    "\n",
    "## Predict\n",
    "\n",
    "1. Based on the system behavior, predict state fot the next time step\n",
    "\n",
    "2. Adjust belief to account for the uncertainty in prediction\n",
    "\n",
    "## Update\n",
    "\n",
    "1. Get a measurement and associated belief about its accuracy\n",
    "\n",
    "2. Compute how likely it is the measurement matches each state\n",
    "\n",
    "3. Update state belief with this likelihood\n",
    "\n"
   ]
  },
  {
   "cell_type": "code",
   "execution_count": 28,
   "metadata": {},
   "outputs": [],
   "source": [
    "def discrete_bayes_sim(prior, kernel, measurements, z_prob, hallway = hallway):\n",
    "    posterior = np.array([0.1] * 10)\n",
    "    priors, posteriors = [], []\n",
    "    for i, z in enumerate(measurements):\n",
    "        prior = predict(posterior, 1, kernel)\n",
    "        priors.append(prior)\n",
    "        \n",
    "        likelihood = lh_hallway(hallway, z, z_prob)\n",
    "        posterior = update(likelihood, prior)\n",
    "        posteriors.append(posterior)\n",
    "    return priors, posteriors\n",
    "\n",
    "def plot_posterior(posteriors, i):\n",
    "    plt.title('Posterior')\n",
    "    book_plots.bar_plot(hallway, c = 'k')\n",
    "    book_plots.bar_plot(posteriors[i], ylim = (0, 1.0))\n",
    "    plt.axvline(i % len(hallway), lw = 5)\n",
    "\n",
    "def plot_prior(priors, i):\n",
    "    plt.title('Prior')\n",
    "    book_plots.bar_plot(hallway, c = 'k')\n",
    "    book_plots.bar_plot(priors[i], ylim = (0, 1.0), c = '#ff8015')\n",
    "    plt.axvline(i % len(hallway), lw = 5)\n",
    "    \n",
    "def animate_discrete_bayes(step):\n",
    "    step -= 1\n",
    "    i = step //2\n",
    "    if step % 2 == 0:\n",
    "        plot_prior(priors, i)\n",
    "    else:\n",
    "        plot_posterior(posteriors, i)\n",
    "        \n",
    "    "
   ]
  },
  {
   "cell_type": "code",
   "execution_count": 29,
   "metadata": {},
   "outputs": [
    {
     "data": {
      "image/png": "[encoded data removed]",
      "text/plain": [
       "<Figure size 432x288 with 1 Axes>"
      ]
     },
     "metadata": {
      "needs_background": "light"
     },
     "output_type": "display_data"
    },
    {
     "data": {
      "text/plain": [
       "<function __main__.animate_discrete_bayes(step)>"
      ]
     },
     "execution_count": 29,
     "metadata": {},
     "output_type": "execute_result"
    }
   ],
   "source": [
    "kernel = [0.1, 0.8, 0.1]\n",
    "z_prob = 1\n",
    "hallway = np.array([1, 1, 0, 0, 0, 0, 0, 0, 1, 0])\n",
    "\n",
    "zs = [hallway[i % len(hallway)] for i in range(50)]\n",
    "\n",
    "priors, posteriors = discrete_bayes_sim(prior, kernel, zs, z_prob)\n",
    "interact(animate_discrete_bayes, step = IntSlider(value = 1, max = len(zs) * 2))"
   ]
  },
  {
   "cell_type": "code",
   "execution_count": 30,
   "metadata": {},
   "outputs": [
    {
     "data": {
      "image/png": "[encoded data removed]",
      "text/plain": [
       "<Figure size 432x288 with 1 Axes>"
      ]
     },
     "metadata": {
      "needs_background": "light"
     },
     "output_type": "display_data"
    },
    {
     "data": {
      "text/plain": [
       "<function __main__.animate_discrete_bayes(step)>"
      ]
     },
     "execution_count": 30,
     "metadata": {},
     "output_type": "execute_result"
    }
   ],
   "source": [
    "hallway = np.array([1, 0, 1, 0, 0] * 2)\n",
    "kernel = (0.1, 0.8, 0.1)\n",
    "prior = np.array([0.1]  * 10)\n",
    "z_prob = 0.75\n",
    "priors, posteriors = discrete_bayes_sim(prior, kernel, zs, z_prob, hallway)\n",
    "interact(animate_discrete_bayes, step = IntSlider(value = 1, max = len(zs) * 2))"
   ]
  },
  {
   "cell_type": "code",
   "execution_count": 31,
   "metadata": {},
   "outputs": [
    {
     "data": {
      "image/png": "[encoded data removed]",
      "text/plain": [
       "<Figure size 432x288 with 1 Axes>"
      ]
     },
     "metadata": {
      "needs_background": "light"
     },
     "output_type": "display_data"
    },
    {
     "data": {
      "text/plain": [
       "<function __main__.animate_discrete_bayes(step)>"
      ]
     },
     "execution_count": 31,
     "metadata": {},
     "output_type": "execute_result"
    }
   ],
   "source": [
    "hallway = np.array([1, 0, 1, 0, 0] * 2)\n",
    "kernel = np.array([0.1, 0.8, 0.1])\n",
    "prior = np.array([0.1] * 10)\n",
    "zs = [1, 0, 1, 0, 0, 1]\n",
    "z_prob = 0.75\n",
    "\n",
    "priors, posteriors = discrete_bayes_sim(prior, kernel, zs, z_prob, hallway)\n",
    "interact(animate_discrete_bayes, step =IntSlider(value = 12, max = len(zs) *2))"
   ]
  },
  {
   "cell_type": "code",
   "execution_count": 32,
   "metadata": {},
   "outputs": [
    {
     "data": {
      "image/png": "[encoded data removed]",
      "text/plain": [
       "<Figure size 432x288 with 1 Axes>"
      ]
     },
     "metadata": {
      "needs_background": "light"
     },
     "output_type": "display_data"
    }
   ],
   "source": [
    "measurements = [1, 0, 1, 0, 0, 1, 1]\n",
    "priors, posteriors = discrete_bayes_sim(prior, kernel, measurements, z_prob)\n",
    "plot_posterior(posteriors, 6)"
   ]
  },
  {
   "cell_type": "code",
   "execution_count": 33,
   "metadata": {},
   "outputs": [
    {
     "data": {
      "image/png": "[encoded data removed]",
      "text/plain": [
       "<Figure size 576x396 with 10 Axes>"
      ]
     },
     "metadata": {
      "needs_background": "light"
     },
     "output_type": "display_data"
    }
   ],
   "source": [
    "with figsize(y = 5.5):\n",
    "    measurements = [1, 0, 1, 0, 0, 1, 1, 1, 0, 0]\n",
    "    for i,m in enumerate(measurements):\n",
    "        likelihood = lh_hallway(hallway, z = m, z_prob = 0.75)\n",
    "        posterior = update(likelihood, prior)\n",
    "        prior = predict(posterior, 1, kernel)\n",
    "        plt.subplot(5, 2, i+1)\n",
    "        book_plots.bar_plot(posterior, ylim = (0, 0.4), title = 'step {}'.format(i+1))\n",
    "    plt.tight_layout()"
   ]
  },
  {
   "cell_type": "code",
   "execution_count": 34,
   "metadata": {},
   "outputs": [],
   "source": [
    "def normalize(x):\n",
    "    return x/np.sum(x)"
   ]
  },
  {
   "cell_type": "code",
   "execution_count": 45,
   "metadata": {},
   "outputs": [],
   "source": [
    "class Train(object):\n",
    "    \n",
    "    def __init__(self, track_len, kernel = [1.0], sensor_accuracy = 0.9):\n",
    "        self.track_len = track_len\n",
    "        self.pos = 0\n",
    "        self.kernel = kernel\n",
    "        self.sensor_accuracy = sensor_accuracy\n",
    "    \n",
    "    def move(self, distance = 1):\n",
    "        self.pos += distance\n",
    "        r = random.random()\n",
    "        s = 0\n",
    "        offset = -(len(self.kernel) - 1)/2\n",
    "        for k in self.kernel:\n",
    "            s += k\n",
    "            if r <= s:\n",
    "                break\n",
    "            offset += 1\n",
    "        self.pos = int((self.pos + offset) % self.track_len)\n",
    "        return self.pos\n",
    "    \n",
    "    def sense(self):\n",
    "        pos = self.pos\n",
    "        if random.random() > self.sensor_accuracy:\n",
    "            if random.random() > 0.5:\n",
    "                pos += 1\n",
    "            else:\n",
    "                pos -= 1\n",
    "        return pos"
   ]
  },
  {
   "cell_type": "code",
   "execution_count": 52,
   "metadata": {},
   "outputs": [],
   "source": [
    "def train_filter(iterations, kernel, sensor_accuracy, move_distance, do_print = True):\n",
    "    track = np.linspace(0,9,10).astype('int')\n",
    "    prior = np.array([0.9] + [0.01] * 9)\n",
    "    posterior = prior[:]\n",
    "    normalize(prior)\n",
    "\n",
    "    robot = Train(len(track), kernel, sensor_accuracy)\n",
    "    for i in range(iterations):\n",
    "        robot.move(distance = move_distance)\n",
    "\n",
    "        prior = predict(posterior, move_distance, kernel)\n",
    "\n",
    "        m = robot.sense()\n",
    "        likelihood = lh_hallway(track, m, sensor_accuracy)\n",
    "\n",
    "        posterior = update(likelihood, prior)\n",
    "        index = np.argmax(posterior)\n",
    "\n",
    "        if do_print:\n",
    "            print('time {}, pos {}, sense{}, at position {}'.format(i, robot.pos, m, track[robot.pos]))\n",
    "\n",
    "            print('estimated position is {}, with confidence {:.4f}%'.format(index, posterior[index]*100))\n",
    "\n",
    "        book_plots.bar_plot(posterior)\n",
    "\n",
    "        if do_print:\n",
    "            print()\n",
    "            print('Final position is ', robot.pos)\n",
    "            index = np.argmax(posterior)\n",
    "            print('Estimated position is {} with confidence {:.4f}'.format(index, posterior[index]*100))"
   ]
  },
  {
   "cell_type": "code",
   "execution_count": 53,
   "metadata": {},
   "outputs": [
    {
     "name": "stdout",
     "output_type": "stream",
     "text": [
      "time 0, pos 4, sense4, at position 4\n",
      "estimated position is 4, with confidence 99.9900%\n",
      "\n",
      "Final position is  4\n",
      "Estimated position is 4 with confidence 99.9900\n",
      "time 1, pos 8, sense8, at position 8\n",
      "estimated position is 8, with confidence 100.0000%\n",
      "\n",
      "Final position is  8\n",
      "Estimated position is 8 with confidence 100.0000\n",
      "time 2, pos 2, sense2, at position 2\n",
      "estimated position is 2, with confidence 100.0000%\n",
      "\n",
      "Final position is  2\n",
      "Estimated position is 2 with confidence 100.0000\n",
      "time 3, pos 6, sense6, at position 6\n",
      "estimated position is 6, with confidence 100.0000%\n",
      "\n",
      "Final position is  6\n",
      "Estimated position is 6 with confidence 100.0000\n"
     ]
    },
    {
     "data": {
      "image/png": "[encoded data removed]",
      "text/plain": [
       "<Figure size 432x288 with 1 Axes>"
      ]
     },
     "metadata": {
      "needs_background": "light"
     },
     "output_type": "display_data"
    }
   ],
   "source": [
    "import random\n",
    "\n",
    "random.seed(1)\n",
    "\n",
    "np.set_printoptions(precision = 2, suppress = True, linewidth = 60)\n",
    "train_filter(4, kernel = [1.0], sensor_accuracy = 0.999, move_distance = 4, do_print = True)"
   ]
  },
  {
   "cell_type": "code",
   "execution_count": 55,
   "metadata": {},
   "outputs": [
    {
     "name": "stdout",
     "output_type": "stream",
     "text": [
      "time 0, pos 4, sense4, at position 4\n",
      "estimated position is 4, with confidence 96.0390%\n",
      "\n",
      "Final position is  4\n",
      "Estimated position is 4 with confidence 96.0390\n",
      "time 1, pos 8, sense8, at position 8\n",
      "estimated position is 8, with confidence 96.8094%\n",
      "\n",
      "Final position is  8\n",
      "Estimated position is 8 with confidence 96.8094\n",
      "time 2, pos 2, sense2, at position 2\n",
      "estimated position is 2, with confidence 96.9180%\n",
      "\n",
      "Final position is  2\n",
      "Estimated position is 2 with confidence 96.9180\n",
      "time 3, pos 6, sense6, at position 6\n",
      "estimated position is 6, with confidence 96.9331%\n",
      "\n",
      "Final position is  6\n",
      "Estimated position is 6 with confidence 96.9331\n"
     ]
    },
    {
     "data": {
      "image/png": "[encoded data removed]",
      "text/plain": [
       "<Figure size 432x288 with 1 Axes>"
      ]
     },
     "metadata": {
      "needs_background": "light"
     },
     "output_type": "display_data"
    }
   ],
   "source": [
    "import random\n",
    "\n",
    "random.seed(1)\n",
    "\n",
    "np.set_printoptions(precision = 2, suppress = True, linewidth = 60)\n",
    "\n",
    "train_filter(4, kernel = [0.1, 0.8, 0.1], sensor_accuracy = 0.9, move_distance = 4, do_print = True)"
   ]
  },
  {
   "cell_type": "code",
   "execution_count": null,
   "metadata": {},
   "outputs": [],
   "source": []
  }
 ],
 "metadata": {
  "kernelspec": {
   "display_name": "Python 3",
   "language": "python",
   "name": "python3"
  },
  "language_info": {
   "codemirror_mode": {
    "name": "ipython",
    "version": 3
   },
   "file_extension": ".py",
   "mimetype": "text/x-python",
   "name": "python",
   "nbconvert_exporter": "python",
   "pygments_lexer": "ipython3",
   "version": "3.7.4"
  }
 },
 "nbformat": 4,
 "nbformat_minor": 4
}
