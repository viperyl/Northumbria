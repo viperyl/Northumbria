{
 "cells": [
  {
   "cell_type": "code",
   "execution_count": 1,
   "metadata": {},
   "outputs": [],
   "source": [
    "import numpy as np\n",
    "import pandas as pd\n",
    "from numpy.random import randn\n",
    "import matplotlib.pyplot as plt\n",
    "from kf_book.book_plots import plot_measurements\n",
    "from kf_book.book_plots import plot_filter\n",
    "from filterpy.kalman import KalmanFilter\n",
    "from scipy.linalg import block_diag\n",
    "from filterpy.common import Q_discrete_white_noise"
   ]
  },
  {
   "cell_type": "code",
   "execution_count": 2,
   "metadata": {},
   "outputs": [],
   "source": [
    "class PosSensor(object):\n",
    "    def __init__(self, pos = (0, 0), vel = (0, 0), noise_std = 1):\n",
    "        self.vel = vel\n",
    "        self.noise_std = noise_std\n",
    "        self.pos = [pos[0], pos[1]]\n",
    "    \n",
    "    def read(self):\n",
    "        self.pos[0] += self.vel[0]\n",
    "        self.pos[1] += self.vel[1]\n",
    "        \n",
    "        return [self.pos[0] + randn() * self.noise_std,\n",
    "                self.pos[1] + randn() * self.noise_std]\n",
    "    "
   ]
  },
  {
   "cell_type": "code",
   "execution_count": 3,
   "metadata": {},
   "outputs": [
    {
     "data": {
      "text/plain": [
       "(<matplotlib.collections.PathCollection at 0x17beacbe5c8>,)"
      ]
     },
     "execution_count": 3,
     "metadata": {},
     "output_type": "execute_result"
    },
    {
     "data": {
      "image/png": "[encoded data removed]",
      "text/plain": [
       "<Figure size 432x288 with 1 Axes>"
      ]
     },
     "metadata": {
      "needs_background": "light"
     },
     "output_type": "display_data"
    }
   ],
   "source": [
    "pos , vel = (4, 3), (2, 1)\n",
    "sensor = PosSensor(pos, vel, noise_std = 1)\n",
    "ps = np.array([sensor.read() for _ in range(50)])\n",
    "plot_measurements(ps[:,0], ps[:,1])"
   ]
  },
  {
   "cell_type": "markdown",
   "metadata": {},
   "source": [
    "## Design State Transition Function\n",
    "\n",
    "\\begin{align}\n",
    "x &= 1 * x + \\Delta t*\\dot{x} + 0 * y + 0 * \\dot{y} \\\\\n",
    "V_{x} &= 0 * x + 1 * \\dot{x} + 0 * y + 0 * \\dot{y} \\\\\n",
    "y &= 0 * x + 0*\\dot{x} + 1 * y + \\Delta t * \\dot{y} \\\\\n",
    "V_{y} &= 0 * x + 0 * \\dot{x} + 0 * y + 1 * \\dot{y} \\\\\n",
    "\\end{align}\n",
    "$$\n",
    "\\begin{bmatrix} \n",
    "x \\\\ \n",
    "V_{x} \\\\ \n",
    "y \\\\ \n",
    "V_{y} \\end{bmatrix} = \n",
    "\\begin{bmatrix}1 & \\Delta t & 0 & 0 \\\\ \n",
    "0 & 1 & 0 & 0 \\\\ \n",
    "0 & 0 & 1 & \\Delta t \\\\ \n",
    "0 & 0 & 0 & 1 \n",
    "\\end{bmatrix} \\times\n",
    "\\begin{bmatrix} \n",
    "x \\\\ \n",
    "\\dot{x} \\\\ \n",
    "y \\\\ \n",
    "\\dot{y} \\end{bmatrix}\n",
    "$$"
   ]
  },
  {
   "cell_type": "code",
   "execution_count": 5,
   "metadata": {},
   "outputs": [],
   "source": [
    "tracker = KalmanFilter(dim_x = 4, dim_z = 2)\n",
    "dt = 1\n",
    "tracker.F = np.array([[1, dt, 0, 0],\n",
    "                      [0,  1, 0, 0],\n",
    "                      [0,  0, 1, dt],\n",
    "                      [0,  0, 0, 1]])"
   ]
  },
  {
   "cell_type": "markdown",
   "metadata": {},
   "source": [
    "## Design the Process Noise Matrix"
   ]
  },
  {
   "cell_type": "code",
   "execution_count": 6,
   "metadata": {},
   "outputs": [
    {
     "name": "stdout",
     "output_type": "stream",
     "text": [
      "[[0.00025 0.0005  0.      0.     ]\n",
      " [0.0005  0.001   0.      0.     ]\n",
      " [0.      0.      0.00025 0.0005 ]\n",
      " [0.      0.      0.0005  0.001  ]]\n"
     ]
    }
   ],
   "source": [
    "q = Q_discrete_white_noise(dim = 2, dt = dt, var = 0.001)\n",
    "tracker.Q =  block_diag(q, q)\n",
    "print(tracker.Q)"
   ]
  },
  {
   "cell_type": "markdown",
   "metadata": {},
   "source": [
    "# Design the Measurement Function"
   ]
  },
  {
   "cell_type": "code",
   "execution_count": 7,
   "metadata": {},
   "outputs": [],
   "source": [
    "tracker.H = np.array([[1/0.3048, 0, 0, 0],\n",
    "                      [0, 0, 1/0.3048, 0]])"
   ]
  },
  {
   "cell_type": "markdown",
   "metadata": {},
   "source": [
    "# Design the Measurement Noise Matrix"
   ]
  },
  {
   "cell_type": "code",
   "execution_count": 9,
   "metadata": {},
   "outputs": [],
   "source": [
    "tracker.R = np.array([[5.0, 0.0],\n",
    "                      [0.0, 5.0]])"
   ]
  },
  {
   "cell_type": "code",
   "execution_count": 10,
   "metadata": {},
   "outputs": [],
   "source": [
    "tracker.x = np.array([[0, 0, 0, 0]]).T\n",
    "tracker.P = np.eye(4) * 500"
   ]
  },
  {
   "cell_type": "code",
   "execution_count": 11,
   "metadata": {},
   "outputs": [],
   "source": [
    "R_std = 0.35\n",
    "Q_std = 0.04\n",
    "def tracker1():\n",
    "    tracker = KalmanFilter(dim_x = 4, dim_z = 2)\n",
    "    dt = 1.0\n",
    "    tracker.F = np.array([[1, dt, 0, 0],\n",
    "                      [0,  1, 0, 0],\n",
    "                      [0,  0, 1, dt],\n",
    "                      [0,  0, 0, 1]])\n",
    "    \n",
    "    tracker.u = 0.0\n",
    "    \n",
    "    tracker.H = np.array([[1/0.3048, 0, 0, 0],\n",
    "                          [0, 0, 1/0.3048, 0]])\n",
    "    \n",
    "    tracker.R = np.eye(2) * R_std ** 2\n",
    "    q = Q_discrete_white_noise(dim = 2, dt = dt, var = 0.001)\n",
    "    tracker.Q = block_diag(q, q)\n",
    "    tracker.x = np.array([[0, 0, 0, 0]]).T\n",
    "    tracker.P = np.eye(4) * 500\n",
    "    return tracker\n",
    "N = 30\n",
    "\n",
    "sensor = PosSensor((0,0), (2, 0.2), noise_std = R_std)\n"
   ]
  },
  {
   "cell_type": "code",
   "execution_count": 13,
   "metadata": {},
   "outputs": [
    {
     "name": "stdout",
     "output_type": "stream",
     "text": [
      "(30, 2)\n"
     ]
    }
   ],
   "source": [
    "zs = np.array([sensor.read() for _ in range(N)])\n",
    "print(np.shape(zs))"
   ]
  },
  {
   "cell_type": "markdown",
   "metadata": {},
   "source": [
    "<font size=\"5\"></font>\n",
    "$$\\huge \\begin{align}\n",
    "f_{x} &= v\\Delta t = 15 \\times 2 \\\\\n",
    "\\bar{x}_{k} &= 10 + (15 \\times 2) = 40\n",
    "\\end{align}$$\n",
    "\\\n",
    "#"
   ]
  }
 ],
 "metadata": {
  "kernelspec": {
   "display_name": "Python 3",
   "language": "python",
   "name": "python3"
  },
  "language_info": {
   "codemirror_mode": {
    "name": "ipython",
    "version": 3
   },
   "file_extension": ".py",
   "mimetype": "text/x-python",
   "name": "python",
   "nbconvert_exporter": "python",
   "pygments_lexer": "ipython3",
   "version": "3.7.4"
  }
 },
 "nbformat": 4,
 "nbformat_minor": 2
}
