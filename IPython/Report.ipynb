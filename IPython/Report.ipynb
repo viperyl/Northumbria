{
 "cells": [
  {
   "cell_type": "code",
   "execution_count": 2,
   "metadata": {},
   "outputs": [],
   "source": [
    "import matplotlib.pyplot as plt\n",
    "import numpy"
   ]
  },
  {
   "cell_type": "code",
   "execution_count": null,
   "metadata": {},
   "outputs": [],
   "source": [
    "def plot_products(g1, g2):\n",
    "    plt.figure()\n",
    "    product = gaussian_multiply(g1, g2)\n",
    "    \n",
    "    xs = np.arrange(5, 15, 0.1)\n",
    "    ys = [stats.gaussian(x, g1.mean, g1.var) for x in xs]\n",
    "    plt.plot(xs, ys, label = '$\\mathcal{N}$')"
   ]
  },
  {
   "cell_type": "code",
   "execution_count": null,
   "metadata": {},
   "outputs": [],
   "source": [
    "def interactive_gaussian(m1, m2, v1, v2):\n",
    "    g1 = gaussian(m1, v1)\n",
    "    g2 = gaussian(m2, v2)\n",
    "    plot_product(g1, g2)"
   ]
  }
 ],
 "metadata": {
  "kernelspec": {
   "display_name": "Python 3",
   "language": "python",
   "name": "python3"
  },
  "language_info": {
   "codemirror_mode": {
    "name": "ipython",
    "version": 3
   },
   "file_extension": ".py",
   "mimetype": "text/x-python",
   "name": "python",
   "nbconvert_exporter": "python",
   "pygments_lexer": "ipython3",
   "version": "3.7.3"
  }
 },
 "nbformat": 4,
 "nbformat_minor": 2
}
