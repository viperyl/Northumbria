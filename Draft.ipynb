{
 "cells": [
  {
   "cell_type": "markdown",
   "metadata": {},
   "source": [
    "## Predict \n",
    "$$\\Large\n",
    "\\begin{align}\n",
    "\\textbf{X}(k \\lvert k-1) &= \\textbf{AX}(k-1 \\lvert k-1) + \\textbf{BU}(k) \\\\\n",
    "\\textbf{P}(k \\lvert k-1) &= \\textbf{AP}(k-1 \\lvert k-1)\\textbf{A}^{T} + \\textbf{Q}\n",
    "\\end{align}\n",
    "$$\n",
    "\n",
    "## Update\n",
    "\n",
    "$$\\Large\n",
    "\\begin{align}\n",
    "\\textbf{K}(k) &= \\textbf{P}(k \\lvert k-1)\\textbf{H}^{T}/(\\textbf{HP}(k \\lvert k-1)\\textbf{HT} + \\textbf{R}) \\\\\n",
    "\\textbf{X}(k \\lvert k) &= \\textbf{X}(k \\lvert k-1) + \\textbf{K}(k)(\\textbf{Z}(k) - \\textbf{HX}(k \\lvert k-1)) \\\\\n",
    "\\textbf{P}(k \\lvert k) &= (\\textbf{I} - \\textbf{K}(k)\\textbf{H})\\textbf{P}(k \\lvert k-1)\n",
    "\\end{align}\n",
    "$$"
   ]
  },
  {
   "cell_type": "markdown",
   "metadata": {},
   "source": [
    "# Summary\n",
    "\n",
    "## Predict Step\n",
    "\n",
    "$$\n",
    "\\Large\n",
    "\\begin{align}\n",
    "\\bar{\\textbf{x}} &= \\textbf{Fx} + \\textbf{Bu} \\\\\n",
    "\\bar{\\textbf{P}} &= \\textbf{FPF}^{T} + \\textbf{Q}\n",
    "\\end{align}\n",
    "$$\n",
    "\n",
    "## Update Step\n",
    "\n",
    "$$\n",
    "\\Large\n",
    "\\begin{align}\n",
    "\\textbf{S} &= \\textbf{H}\\bar{\\textbf{P}}\\textbf{H}^{T} + \\textbf{R}  \\\\\n",
    "\\textbf{K} &= \\bar{\\textbf{P}}\\textbf{H}^{T}\\textbf{S}^{-1} \\\\\n",
    "\\textbf{y} &= \\textbf{z} - \\textbf{H}\\bar{\\textbf{x}}\\\\\n",
    "\\textbf{x} &= \\bar{\\textbf{x}} + \\textbf{Ky} \\\\\n",
    "\\textbf{P} &= (\\textbf{I} - \\textbf{KH})\\bar{\\textbf{P}}\n",
    "\\end{align}\n",
    "$$\n",
    "\n",
    "# Literature Equation\n",
    "\n",
    "## Predict Step\n",
    "$$\n",
    "\\Large\n",
    "\\begin{align}\n",
    "\\hat{\\textbf{x}}_{k\\mid k-1} &= \\textbf{F}_{k}\\hat{\\textbf{x}}_{k-1 \\mid k-1} + \\textbf{B}_{k}\\textbf{u}_{k}\\\\\n",
    "\\textbf{P}_{k\\mid k-1} &= \\textbf{F}_{k}\\textbf{P}_{k-1 \\mid k-1}\\textbf{F}^{T}_{k} + \\textbf{Q}_{k}\n",
    "\\end{align}\n",
    "$$\n",
    "\n",
    "\n",
    "## Update Step\n",
    "\n",
    "$$\n",
    "\\Large\n",
    "\\begin{align}\n",
    "\\tilde{\\textbf{y}}_{k} &= \\textbf{z}_{k} - \\textbf{H}_{k}\\hat{\\textbf{x}}_{k \\mid k-1} \\\\\n",
    "\\textbf{S}_{k} &= \\textbf{H}_{k}\\textbf{P}_{k \\mid k-1}\\textbf{H}^{T}_{k} + \\textbf{R}_{k} \\\\\n",
    "\\textbf{K}_{k} &= \\textbf{P}_{k \\mid k-1}\\textbf{H}^{T}_{k}\\textbf{S}^{-1}_{k} \\\\\n",
    "\\hat{\\textbf{x}}_{k \\mid k} &= \\hat{\\textbf{x}}_{k \\mid k-1} + \\textbf{K}_{k}\\tilde{\\textbf{y}}_{k} \\\\\n",
    "\\textbf{P}_{k \\mid k} &= (\\textbf{I} - \\textbf{K}_{k}\\textbf{H}_{k})\\textbf{P}_{k \\mid k-1}\n",
    "\\end{align} \n",
    "$$\n",
    "\n",
    "The notationn uses the Baysian $a \\mid b$ notation, which means a given the evidence of b.\n",
    "\n",
    "The hat means estimate. Thus $\\hat{\\textbf{x}}_{k\\mid k}$ means posterior, and $\\hat{\\textbf{x}}_{k\\mid k-1}$ means prior\n"
   ]
  },
  {
   "cell_type": "code",
   "execution_count": null,
   "metadata": {},
   "outputs": [],
   "source": []
  }
 ],
 "metadata": {
  "kernelspec": {
   "display_name": "Python 3",
   "language": "python",
   "name": "python3"
  },
  "language_info": {
   "codemirror_mode": {
    "name": "ipython",
    "version": 3
   },
   "file_extension": ".py",
   "mimetype": "text/x-python",
   "name": "python",
   "nbconvert_exporter": "python",
   "pygments_lexer": "ipython3",
   "version": "3.7.4"
  }
 },
 "nbformat": 4,
 "nbformat_minor": 2
}
