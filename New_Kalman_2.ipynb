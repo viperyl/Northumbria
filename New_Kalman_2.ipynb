{
 "cells": [
  {
   "cell_type": "code",
   "execution_count": 1,
   "metadata": {},
   "outputs": [],
   "source": [
    "import random\n",
    "import numpy as np\n",
    "import kf_book.book_plots as book_plots\n",
    "import matplotlib.pyplot as plt\n",
    "\n",
    "from kf_book.book_plots import figsize, set_figsize\n",
    "from ipywidgets import interact, IntSlider\n",
    "\n",
    "from scipy.ndimage.filters import convolve\n",
    "from scipy.ndimage.interpolation import shift"
   ]
  },
  {
   "cell_type": "code",
   "execution_count": 2,
   "metadata": {},
   "outputs": [
    {
     "name": "stdout",
     "output_type": "stream",
     "text": [
      "[0.1 0.1 0.1 0.1 0.1 0.1 0.1 0.1 0.1 0.1]\n"
     ]
    }
   ],
   "source": [
    "belief = np.array([1./10]*10)\n",
    "print(belief)"
   ]
  },
  {
   "cell_type": "code",
   "execution_count": 3,
   "metadata": {},
   "outputs": [
    {
     "name": "stdout",
     "output_type": "stream",
     "text": [
      "[1 1 0 0 0 0 0 0 1 0]\n"
     ]
    }
   ],
   "source": [
    "hallway = np.array([1, 1, 0, 0, 0, 0, 0, 0, 1, 0])\n",
    "print(hallway)"
   ]
  },
  {
   "cell_type": "code",
   "execution_count": 4,
   "metadata": {},
   "outputs": [
    {
     "name": "stdout",
     "output_type": "stream",
     "text": [
      "[0.33333333 0.33333333 0.         0.         0.         0.\n",
      " 0.         0.         0.33333333 0.        ]\n"
     ]
    }
   ],
   "source": [
    "belief = hallway * 1/3\n",
    "print(belief)"
   ]
  },
  {
   "cell_type": "code",
   "execution_count": 5,
   "metadata": {},
   "outputs": [
    {
     "data": {
      "image/png": "[encoded data removed]",
      "text/plain": [
       "<Figure size 432x288 with 1 Axes>"
      ]
     },
     "metadata": {
      "needs_background": "light"
     },
     "output_type": "display_data"
    }
   ],
   "source": [
    "book_plots.bar_plot(belief)"
   ]
  },
  {
   "cell_type": "code",
   "execution_count": 6,
   "metadata": {},
   "outputs": [
    {
     "name": "stdout",
     "output_type": "stream",
     "text": [
      "[0 1 0 0 0 0 0 0 0 0]\n"
     ]
    }
   ],
   "source": [
    "belief = np.array([0]*10)\n",
    "belief[1] = 1\n",
    "print(belief)"
   ]
  },
  {
   "cell_type": "markdown",
   "metadata": {},
   "source": [
    "$\\Huge Scale = \\frac{Prob_{correct}}{Prob_{incorrect}} = \\frac{Prob_{correct}}{1 - Prob_{correct}}$"
   ]
  },
  {
   "cell_type": "code",
   "execution_count": 7,
   "metadata": {},
   "outputs": [
    {
     "name": "stdout",
     "output_type": "stream",
     "text": [
      "Belief:  [0.3 0.3 0.1 0.1 0.1 0.1 0.1 0.1 0.3 0.1]\n",
      "Sum:  1.6000000000000003\n"
     ]
    },
    {
     "data": {
      "image/png": "[encoded data removed]",
      "text/plain": [
       "<Figure size 432x288 with 1 Axes>"
      ]
     },
     "metadata": {
      "needs_background": "light"
     },
     "output_type": "display_data"
    }
   ],
   "source": [
    "def update_belief(hall, belief, z, correct_scale = 3.):\n",
    "    for i, val in enumerate(hall):\n",
    "        if val == z:\n",
    "            belief[i] *= correct_scale\n",
    "belief = np.array([0.1] * 10)\n",
    "reading = 1\n",
    "update_belief(hallway, belief, z = reading, correct_scale = 3.)\n",
    "print('Belief: ', belief)\n",
    "print('Sum: ', sum(belief))\n",
    "plt.figure()\n",
    "book_plots.bar_plot(belief)"
   ]
  },
  {
   "cell_type": "code",
   "execution_count": 8,
   "metadata": {},
   "outputs": [
    {
     "data": {
      "text/plain": [
       "array([0.1875, 0.1875, 0.0625, 0.0625, 0.0625, 0.0625, 0.0625, 0.0625,\n",
       "       0.1875, 0.0625])"
      ]
     },
     "execution_count": 8,
     "metadata": {},
     "output_type": "execute_result"
    }
   ],
   "source": [
    "belief / sum(belief)"
   ]
  },
  {
   "cell_type": "code",
   "execution_count": 9,
   "metadata": {},
   "outputs": [
    {
     "name": "stdout",
     "output_type": "stream",
     "text": [
      "Sum:  1.0\n",
      "Probability of door:  0.1875\n",
      "probability of wall:  0.06249999999999999\n"
     ]
    },
    {
     "data": {
      "image/png": "[encoded data removed]",
      "text/plain": [
       "<Figure size 432x288 with 1 Axes>"
      ]
     },
     "metadata": {
      "needs_background": "light"
     },
     "output_type": "display_data"
    }
   ],
   "source": [
    "def scale_update(hall, belief, z, z_prob):\n",
    "    scale = z_prob/(1 - z_prob)\n",
    "    belief[hall == z] *= scale\n",
    "    belief = belief/sum(belief)\n",
    "    return belief \n",
    "\n",
    "belief = np.array([0.1] * 10)\n",
    "belief = scale_update(hallway, belief, 1, z_prob = 0.75)\n",
    "\n",
    "print('Sum: ', sum(belief))\n",
    "print('Probability of door: ', belief[0])\n",
    "print('probability of wall: ', belief[2])\n",
    "book_plots.bar_plot(belief, ylim = (0, 0.3))\n"
   ]
  },
  {
   "cell_type": "markdown",
   "metadata": {},
   "source": [
    "$\\Huge Posterior = \\frac{Likelihood\\times Prior}{Normalization}$"
   ]
  },
  {
   "cell_type": "code",
   "execution_count": 10,
   "metadata": {},
   "outputs": [],
   "source": [
    "def scaled_update(hall, belief, z, z_prob):\n",
    "    scale = z_prob/(1 - z_prob)\n",
    "    likelihood = np.ones(len(hall))\n",
    "    likelihood[hall == z]  *= scale\n",
    "    return likelihood*belief/(sum(likelihood*belief))\n",
    "\n",
    "def update(likelihood, prior):\n",
    "    return likelihood * prior/sum(likelihood * prior)"
   ]
  },
  {
   "cell_type": "code",
   "execution_count": 11,
   "metadata": {},
   "outputs": [
    {
     "name": "stdout",
     "output_type": "stream",
     "text": [
      "[0.1875 0.1875 0.0625 0.0625 0.0625 0.0625 0.0625 0.0625 0.1875 0.0625]\n"
     ]
    }
   ],
   "source": [
    "def lh_hallway(hall, z, z_prob):\n",
    "    try:\n",
    "        scale = z_prob/(1 - z_prob)\n",
    "    except ZeroDivisionError:\n",
    "        scale = 1e8\n",
    "    \n",
    "    likelihood = np.ones(len(hall));\n",
    "    likelihood[hall == z] *= scale\n",
    "    return likelihood\n",
    "\n",
    "belief = np.array([0.1] * 10)\n",
    "likelihood = lh_hallway(hallway, z = 1, z_prob = 0.75)\n",
    "posterior = update(likelihood, belief)\n",
    "print(posterior)"
   ]
  },
  {
   "cell_type": "code",
   "execution_count": 12,
   "metadata": {},
   "outputs": [],
   "source": [
    "def perfect_predict(belief, move):\n",
    "    n = len(belief)\n",
    "    result = np.zeros(n)\n",
    "    for i in range(n):\n",
    "        result[i] = belief[i - move]\n",
    "    return result\n"
   ]
  },
  {
   "cell_type": "code",
   "execution_count": 13,
   "metadata": {},
   "outputs": [
    {
     "data": {
      "image/png": "[encoded data removed]",
      "text/plain": [
       "<Figure size 432x288 with 2 Axes>"
      ]
     },
     "metadata": {
      "needs_background": "light"
     },
     "output_type": "display_data"
    }
   ],
   "source": [
    "belief = np.array([0.35, 0.1, 0.2, 0.3, 0, 0, 0, 0, 0, 0.05])\n",
    "plt.subplot(121)\n",
    "book_plots.bar_plot(belief, title = 'Before prediction', ylim = (0, 0.4))\n",
    "\n",
    "belief = perfect_predict(belief, 1)\n",
    "plt.subplot(122)\n",
    "book_plots.bar_plot(belief, title = 'After prediction', ylim = (0, 0.4))"
   ]
  },
  {
   "cell_type": "code",
   "execution_count": 14,
   "metadata": {},
   "outputs": [
    {
     "data": {
      "application/vnd.jupyter.widget-view+json": {
       "model_id": "66ca65946b6d4aac9ca515d23cfa6509",
       "version_major": 2,
       "version_minor": 0
      },
      "text/plain": [
       "interactive(children=(IntSlider(value=0, description='time_step', max=19), Output()), _dom_classes=('widget-in…"
      ]
     },
     "metadata": {},
     "output_type": "display_data"
    },
    {
     "data": {
      "text/plain": [
       "<function __main__.simulate(time_step)>"
      ]
     },
     "execution_count": 14,
     "metadata": {},
     "output_type": "execute_result"
    }
   ],
   "source": [
    "belief = np.array([0.35, 0.1, 0.2, 0.3, 0, 0, 0, 0, 0, 0.05])\n",
    "beliefs = []\n",
    "for _ in range(20):\n",
    "    belief = perfect_predict(belief, 1)\n",
    "    beliefs.append(belief)\n",
    "\n",
    "def simulate(time_step):\n",
    "    book_plots.bar_plot(beliefs[time_step], ylim = (0, 0.4))\n",
    "\n",
    "interact(simulate, time_step = IntSlider(value = 0, max = len(beliefs) - 1))"
   ]
  },
  {
   "cell_type": "markdown",
   "metadata": {},
   "source": [
    "Calculate the prior of position 5:\n",
    "\n",
    "$Reach \\; position \\; 5 =\\begin{cases}\n",
    "                    Position \\; 2 \\; move \\; 3, & Over\\\\\n",
    "                    Position \\; 3 \\; move \\; 2, & Correct\\\\\n",
    "                    Position \\; 4 \\; move \\; 1, & Under\n",
    "                    \\end{cases}$"
   ]
  },
  {
   "cell_type": "code",
   "execution_count": 15,
   "metadata": {},
   "outputs": [],
   "source": [
    "def predict_move(belief, move, p_under, p_correct, p_over):\n",
    "    n = len(belief)\n",
    "    prior = np.zeros(n)\n",
    "    for i in range(n):\n",
    "        prior[i] = ( \n",
    "            belief[i - move - 1] * p_over +\n",
    "            belief[i - move] * p_correct + \n",
    "            belief[i - move + 1] * p_under\n",
    "        )\n",
    "    return prior"
   ]
  },
  {
   "cell_type": "code",
   "execution_count": 16,
   "metadata": {},
   "outputs": [
    {
     "data": {
      "image/png": "[encoded data removed]",
      "text/plain": [
       "<Figure size 432x288 with 2 Axes>"
      ]
     },
     "metadata": {
      "needs_background": "light"
     },
     "output_type": "display_data"
    }
   ],
   "source": [
    "belief = np.array([0, 0, 0, 1, 0, 0, 0, 0, 0, 0])\n",
    "prior = predict_move(belief, 2, 0.1, 0.8, 0.1)\n",
    "book_plots.plot_belief_vs_prior(belief, prior)"
   ]
  },
  {
   "cell_type": "code",
   "execution_count": 17,
   "metadata": {},
   "outputs": [
    {
     "data": {
      "text/plain": [
       "array([0.  , 0.  , 0.  , 0.04, 0.38, 0.52, 0.06, 0.  , 0.  , 0.  ])"
      ]
     },
     "execution_count": 17,
     "metadata": {},
     "output_type": "execute_result"
    },
    {
     "data": {
      "image/png": "[encoded data removed]",
      "text/plain": [
       "<Figure size 432x288 with 2 Axes>"
      ]
     },
     "metadata": {
      "needs_background": "light"
     },
     "output_type": "display_data"
    }
   ],
   "source": [
    "belief = np.array([0, 0, 0.4, 0.6, 0, 0, 0, 0, 0, 0])\n",
    "prior = predict_move(belief, 2, 0.1, 0.8, 0.1)\n",
    "book_plots.plot_belief_vs_prior(belief, prior)\n",
    "prior\n"
   ]
  },
  {
   "cell_type": "code",
   "execution_count": 18,
   "metadata": {},
   "outputs": [
    {
     "data": {
      "application/vnd.jupyter.widget-view+json": {
       "model_id": "2977d848b49e4931a472311c44586b13",
       "version_major": 2,
       "version_minor": 0
      },
      "text/plain": [
       "interactive(children=(IntSlider(value=1, description='step', max=120), Output()), _dom_classes=('widget-intera…"
      ]
     },
     "metadata": {},
     "output_type": "display_data"
    },
    {
     "data": {
      "text/plain": [
       "<function __main__.show_prior(step)>"
      ]
     },
     "execution_count": 18,
     "metadata": {},
     "output_type": "execute_result"
    }
   ],
   "source": [
    "belief = np.array([0] * 10)\n",
    "belief[0] = 1\n",
    "\n",
    "for i in range(100):\n",
    "    belief = predict_move(belief, 1, 0.1, 0.8, 0.1)\n",
    "    beliefs.append(belief)\n",
    "\n",
    "def show_prior(step):\n",
    "    book_plots.bar_plot(beliefs[step-1])\n",
    "    plt.title('Step:{}'.format(step))\n",
    "interact(show_prior, step = IntSlider(value = 1, max = len(beliefs)))"
   ]
  },
  {
   "cell_type": "code",
   "execution_count": 19,
   "metadata": {},
   "outputs": [
    {
     "name": "stdout",
     "output_type": "stream",
     "text": [
      "Final belief:  [0.10407069 0.10329322 0.10125784 0.09874205 0.09670682 0.09592945\n",
      " 0.09670682 0.09874205 0.10125784 0.10329322]\n"
     ]
    }
   ],
   "source": [
    "print('Final belief: ', belief)"
   ]
  },
  {
   "cell_type": "markdown",
   "metadata": {},
   "source": [
    " ## Convolution \n",
    " \n",
    " ### 1. For Continuous function\n",
    " \n",
    " $$\\Huge (f * g) = \\int_{0}^{t} f(\\tau)g(t - \\tau) d\\tau$$\n",
    "\n",
    " ### 2. For Discrete function\n",
    " \n",
    " $$\\Huge (f  * g)[t] = \\sum_{\\tau = 0}^t f[\\tau]g[t - \\tau] $$\n"
   ]
  },
  {
   "cell_type": "code",
   "execution_count": 20,
   "metadata": {},
   "outputs": [],
   "source": [
    "def predict_move_convolution(pdf, offset, kernel):\n",
    "    N = len(pdf)\n",
    "    kN = len(kernel)\n",
    "    width = int((kN-1)/2)\n",
    "    \n",
    "    prior = np.zeros(N)\n",
    "    \n",
    "    for i in range(N):\n",
    "        for k in range(kN):\n",
    "            index = (i + (width - k) - offset) % N\n",
    "            prior[i] += pdf[index] * kernel[k]\n",
    "    return prior"
   ]
  },
  {
   "cell_type": "code",
   "execution_count": 21,
   "metadata": {},
   "outputs": [],
   "source": [
    "def predict(pdf, offset, kernel, mode='wrap', cval=0.):\n",
    "    if mode == 'wrap':\n",
    "        return convolve(np.roll(pdf, offset), kernel, mode='wrap')\n",
    "\n",
    "    return convolve(shift(pdf, offset, cval=cval), kernel,\n",
    "                    cval=cval, mode='constant')"
   ]
  },
  {
   "cell_type": "code",
   "execution_count": 22,
   "metadata": {},
   "outputs": [
    {
     "data": {
      "image/png": "[encoded data removed]",
      "text/plain": [
       "<Figure size 432x288 with 2 Axes>"
      ]
     },
     "metadata": {
      "needs_background": "light"
     },
     "output_type": "display_data"
    }
   ],
   "source": [
    "belief = np.array([0.05] * 10)\n",
    "belief[4] = 0.55\n",
    "prior = predict(belief, offset = 1, kernel = [0.1, 0.8, 0.1])\n",
    "book_plots.plot_belief_vs_prior(belief, prior, ylim = (0, 0.6))"
   ]
  },
  {
   "cell_type": "code",
   "execution_count": 23,
   "metadata": {},
   "outputs": [
    {
     "data": {
      "application/vnd.jupyter.widget-view+json": {
       "model_id": "f6f09044e80f436f8f3ba9a5b0b10e20",
       "version_major": 2,
       "version_minor": 0
      },
      "text/plain": [
       "interactive(children=(IntSlider(value=1, description='step'), Output()), _dom_classes=('widget-interact',))"
      ]
     },
     "metadata": {},
     "output_type": "display_data"
    },
    {
     "data": {
      "text/plain": [
       "<function __main__.show_prior(step)>"
      ]
     },
     "execution_count": 23,
     "metadata": {},
     "output_type": "execute_result"
    }
   ],
   "source": [
    "belief = np.array([0.05] * 10)\n",
    "belief[0] = 0.55\n",
    "beliefs = []\n",
    "for i in range(100):\n",
    "    belief = predict(belief, offset = 1, kernel = [0.1, 0.8, 0.1])\n",
    "    beliefs.append(belief)\n",
    "def show_prior(step):\n",
    "    book_plots.bar_plot(beliefs[step-1])\n",
    "    plt.title('Step:{}'.format(step))\n",
    "interact(show_prior, step = IntSlider(value = 1, max = len(beliefs)))"
   ]
  },
  {
   "cell_type": "code",
   "execution_count": 24,
   "metadata": {},
   "outputs": [
    {
     "data": {
      "image/png": "[encoded data removed]",
      "text/plain": [
       "<Figure size 432x288 with 2 Axes>"
      ]
     },
     "metadata": {
      "needs_background": "light"
     },
     "output_type": "display_data"
    }
   ],
   "source": [
    "hallway = np.array([1, 1, 0, 0, 0, 0, 0, 0, 1, 0])\n",
    "prior = np.array([0.1] * 10)\n",
    "likelihood = lh_hallway(hallway, z = 1, z_prob = 0.75)\n",
    "posterior = update(likelihood, prior)\n",
    "book_plots.plot_prior_vs_posterior(prior, posterior, ylim = (0, 0.5))"
   ]
  },
  {
   "cell_type": "code",
   "execution_count": 25,
   "metadata": {},
   "outputs": [
    {
     "data": {
      "image/png": "[encoded data removed]",
      "text/plain": [
       "<Figure size 432x288 with 2 Axes>"
      ]
     },
     "metadata": {
      "needs_background": "light"
     },
     "output_type": "display_data"
    }
   ],
   "source": [
    "kernel = (0.1, 0.8, 0.1)\n",
    "prior = predict(posterior, 1, kernel)\n",
    "book_plots.plot_prior_vs_posterior(prior, posterior, True, ylim = (0, 0.5))"
   ]
  },
  {
   "cell_type": "code",
   "execution_count": 26,
   "metadata": {},
   "outputs": [
    {
     "data": {
      "image/png": "[encoded data removed]",
      "text/plain": [
       "<Figure size 432x288 with 2 Axes>"
      ]
     },
     "metadata": {
      "needs_background": "light"
     },
     "output_type": "display_data"
    }
   ],
   "source": [
    "likelihood = lh_hallway(hallway, z = 1, z_prob = 0.75)\n",
    "posterior = update(likelihood, prior)\n",
    "book_plots.plot_prior_vs_posterior(prior, posterior, ylim = (0, 0.5))"
   ]
  },
  {
   "cell_type": "code",
   "execution_count": 27,
   "metadata": {},
   "outputs": [
    {
     "data": {
      "image/png": "[encoded data removed]",
      "text/plain": [
       "<Figure size 432x288 with 2 Axes>"
      ]
     },
     "metadata": {
      "needs_background": "light"
     },
     "output_type": "display_data"
    }
   ],
   "source": [
    "prior = predict(posterior, 1, kernel)\n",
    "likelihood = lh_hallway(hallway, z = 0, z_prob = 0.75)\n",
    "posterior = update(likelihood, prior)\n",
    "book_plots.plot_prior_vs_posterior(prior, posterior, ylim = (0, 0.5))"
   ]
  },
  {
   "cell_type": "code",
   "execution_count": 28,
   "metadata": {},
   "outputs": [
    {
     "data": {
      "image/png": "[encoded data removed]",
      "text/plain": [
       "<Figure size 288x288 with 1 Axes>"
      ]
     },
     "metadata": {},
     "output_type": "display_data"
    }
   ],
   "source": [
    "book_plots.predict_update_chart()"
   ]
  },
  {
   "cell_type": "markdown",
   "metadata": {},
   "source": [
    "## Initialization\n",
    "\n",
    "1. Initialize our belief in the state\n",
    "\n",
    "## Predict\n",
    "\n",
    "1. Based on the system behavior, predict state for the next time step\n",
    "\n",
    "2. Adjust belief to account for the uncertainty in prediction\n",
    "\n",
    "## Update\n",
    "\n",
    "1. Get a measurement and associated belief about its accuracy\n",
    "\n",
    "2. Compute how likely it is the measurement matches each state\n",
    "\n",
    "3. Update state belief with this likelihood\n"
   ]
  },
  {
   "cell_type": "code",
   "execution_count": 29,
   "metadata": {},
   "outputs": [],
   "source": [
    "def discrete_bayes_sim(prior, kernel, measurements, z_prob, hallway = hallway):\n",
    "    posterior = np.array([0.1]  * 10)\n",
    "    priors, posteriors = [], []\n",
    "    \n",
    "    for i,z in enumerate(measurements):\n",
    "        prior = predict(posterior, 1, kernel)\n",
    "        priors.append(prior)\n",
    "        \n",
    "        likelihood = lh_hallway(hallway, z, z_prob)\n",
    "        posterior = update(likelihood, prior)\n",
    "        posteriors.append(posterior)\n",
    "    return priors, posteriors\n",
    "\n",
    "def plot_posterior(posteriors, i):\n",
    "    plt.title('Posterior')\n",
    "    book_plots.bar_plot(hallway, c = 'k')\n",
    "    book_plots.bar_plot(posteriors[i], ylim = (0, 1.0))\n",
    "    plt.axvline(i % len(hallway), lw = 5)\n",
    "    \n",
    "def plot_prior(priors, i):\n",
    "    plt.title('Prior')\n",
    "    book_plots.bar_plot(hallway, c = 'k')\n",
    "    book_plots.bar_plot(priors[i], ylim = (0, 1.0), c = '#ff8015')\n",
    "    plt.axvline(i % len(hallway), lw = 5)\n",
    "\n",
    "def animate_discrete_bayes(step):\n",
    "    step -= 1\n",
    "    i = step // 2\n",
    "    \n",
    "    if step % 2 == 0:\n",
    "        plot_prior(priors, i)\n",
    "    else:\n",
    "        plot_posterior(posteriors, i)"
   ]
  },
  {
   "cell_type": "code",
   "execution_count": 30,
   "metadata": {},
   "outputs": [
    {
     "data": {
      "application/vnd.jupyter.widget-view+json": {
       "model_id": "136e2a9998c44144ac135deecc883deb",
       "version_major": 2,
       "version_minor": 0
      },
      "text/plain": [
       "interactive(children=(IntSlider(value=1, description='step'), Output()), _dom_classes=('widget-interact',))"
      ]
     },
     "metadata": {},
     "output_type": "display_data"
    },
    {
     "data": {
      "text/plain": [
       "<function __main__.animate_discrete_bayes(step)>"
      ]
     },
     "execution_count": 30,
     "metadata": {},
     "output_type": "execute_result"
    }
   ],
   "source": [
    "kernel = (0.1, 0.8, 0.1)\n",
    "z_prob = 1.0\n",
    "hallway = np.array([1, 1, 0, 0, 0, 0, 0, 0, 1, 0])\n",
    "zs = [hallway[i % len(hallway)] for i in range(50)]\n",
    "priors, posteriors = discrete_bayes_sim(prior, kernel, zs, z_prob)\n",
    "interact(animate_discrete_bayes, step = IntSlider(value = 1, max = len(zs) * 2))"
   ]
  },
  {
   "cell_type": "code",
   "execution_count": 31,
   "metadata": {},
   "outputs": [
    {
     "data": {
      "application/vnd.jupyter.widget-view+json": {
       "model_id": "3639e0c9cf09479db3e12a0f8744142d",
       "version_major": 2,
       "version_minor": 0
      },
      "text/plain": [
       "interactive(children=(IntSlider(value=12, description='step', max=12), Output()), _dom_classes=('widget-intera…"
      ]
     },
     "metadata": {},
     "output_type": "display_data"
    },
    {
     "data": {
      "text/plain": [
       "<function __main__.animate_discrete_bayes(step)>"
      ]
     },
     "execution_count": 31,
     "metadata": {},
     "output_type": "execute_result"
    }
   ],
   "source": [
    "hallway = np.array([1, 0, 1, 0, 0] * 2)\n",
    "kernel = (0.1, 0.8, 0.1)\n",
    "prior = np.array([0.1] * 10)\n",
    "zs = [1, 0, 1, 0, 0, 1]\n",
    "z_pron = 0.75\n",
    "priors, posteriors = discrete_bayes_sim(prior, kernel, zs, z_prob, hallway)\n",
    "interact(animate_discrete_bayes, step = IntSlider(value = 12, max = len(zs) * 2))"
   ]
  },
  {
   "cell_type": "code",
   "execution_count": 32,
   "metadata": {},
   "outputs": [
    {
     "data": {
      "image/png": "[encoded data removed]",
      "text/plain": [
       "<Figure size 432x288 with 1 Axes>"
      ]
     },
     "metadata": {
      "needs_background": "light"
     },
     "output_type": "display_data"
    }
   ],
   "source": [
    "measurements = [1, 0, 1, 0, 0, 1, 1]\n",
    "priors, posteriors = discrete_bayes_sim(prior, kernel, measurements, z_prob)\n",
    "plot_posterior(posteriors, 6)"
   ]
  },
  {
   "cell_type": "code",
   "execution_count": 33,
   "metadata": {},
   "outputs": [
    {
     "data": {
      "image/png": "[encoded data removed]",
      "text/plain": [
       "<Figure size 576x396 with 10 Axes>"
      ]
     },
     "metadata": {
      "needs_background": "light"
     },
     "output_type": "display_data"
    }
   ],
   "source": [
    "with figsize(y = 5.5):\n",
    "    measurements = [1, 0, 1, 0, 0, 1, 1, 1, 0, 0]\n",
    "    for i,m in enumerate(measurements):\n",
    "        likelihood = lh_hallway(hallway, z = m, z_prob = 0.75)\n",
    "        posterior = update(likelihood, prior)\n",
    "        prior = predict(posterior, 1, kernel)\n",
    "        plt.subplot(5, 2, i+1)\n",
    "        book_plots.bar_plot(posterior, ylim = (0, 0.4), title ='step'.format(i + 1))\n",
    "    plt.tight_layout()"
   ]
  },
  {
   "cell_type": "code",
   "execution_count": 34,
   "metadata": {},
   "outputs": [],
   "source": [
    "class Train(object):\n",
    "    def __init__(self, track_len, kernel = [1.], sensor_accuracy = 0.9):\n",
    "        self.track_len = track_len\n",
    "        self.pos = 0\n",
    "        self.kernel = kernel\n",
    "        self.sensor_accuracy = sensor_accuracy\n",
    "    \n",
    "    def move(self, distance = 1):\n",
    "        self.pos += distance\n",
    "        \n",
    "        r = np.random.random()\n",
    "        s = 0\n",
    "        offset = -(len(self.kernel) - 1)/2\n",
    "        for k in self.kernel:\n",
    "            s += k\n",
    "            if r <= s:\n",
    "                break\n",
    "            offset += 1\n",
    "        self.pos = int((self.pos + offset) % self.track_len)\n",
    "        return self.pos\n",
    "    \n",
    "    def sense(self):\n",
    "        pos = self.pos\n",
    "        \n",
    "        if random.random() > self.sensor_accuracy:\n",
    "            if np.random.random() > 0.5:\n",
    "                pos += 1\n",
    "            else:\n",
    "                pos -= 1\n",
    "        return pos"
   ]
  },
  {
   "cell_type": "code",
   "execution_count": 35,
   "metadata": {},
   "outputs": [],
   "source": [
    "def train_filter(iterations, kernel, sensor_accuracy, move_distance, do_print = True):\n",
    "    track = np.linspace(0,9,10).astype('int')\n",
    "    prior = np.array([0.9] + [0.01] * 9)\n",
    "    posterior = prior[:]\n",
    "    prior = prior/ sum(prior)\n",
    "    \n",
    "    robot = Train(len(track), kernel, sensor_accuracy)\n",
    "    for i in range(iterations):\n",
    "        # Move the robot\n",
    "        robot.move(distance = move_distance)\n",
    "        \n",
    "        # Perform prediction\n",
    "        prior = predict(posterior, move_distance, kernel)\n",
    "        \n",
    "        # Update the filter\n",
    "        m = robot.sense()\n",
    "        likelihood = lh_hallway(track, m, sensor_accuracy)\n",
    "        posterior = update(likelihood, prior)\n",
    "        index = np.argmax(posterior)\n",
    "        \n",
    "        if do_print:\n",
    "            print('''time {}: pos{}, sensed {}, at position {}'''.format(i, robot.pos, m, track[robot.pos]))\n",
    "            \n",
    "            print('''Estimated position is {} with confidence {:.4f}%'''.format(index, posterior[index]*100))\n",
    "    \n",
    "    book_plots.bar_plot(posterior)\n",
    "        \n",
    "    if do_print:\n",
    "        print()\n",
    "        print('final postion is ', robot.pos)\n",
    "        index = np.argmax(posterior)\n",
    "        print('''Estimated position is {} with confidence {:.4f}%'''.format(index, posterior[index] * 100))\n",
    "            \n",
    "        "
   ]
  },
  {
   "cell_type": "code",
   "execution_count": 36,
   "metadata": {},
   "outputs": [
    {
     "name": "stdout",
     "output_type": "stream",
     "text": [
      "time 0: pos4, sensed 4, at position 4\n",
      "Estimated position is 4 with confidence 99.9900%\n",
      "time 1: pos8, sensed 8, at position 8\n",
      "Estimated position is 8 with confidence 100.0000%\n",
      "time 2: pos2, sensed 2, at position 2\n",
      "Estimated position is 2 with confidence 100.0000%\n",
      "time 3: pos6, sensed 6, at position 6\n",
      "Estimated position is 6 with confidence 100.0000%\n",
      "\n",
      "final postion is  6\n",
      "Estimated position is 6 with confidence 100.0000%\n"
     ]
    },
    {
     "data": {
      "image/png": "[encoded data removed]",
      "text/plain": [
       "<Figure size 432x288 with 1 Axes>"
      ]
     },
     "metadata": {
      "needs_background": "light"
     },
     "output_type": "display_data"
    }
   ],
   "source": [
    "train_filter(4, kernel = [1], sensor_accuracy = 0.999, move_distance = 4, do_print = True)"
   ]
  },
  {
   "cell_type": "code",
   "execution_count": 37,
   "metadata": {},
   "outputs": [
    {
     "name": "stdout",
     "output_type": "stream",
     "text": [
      "time 0: pos4, sensed 4, at position 4\n",
      "Estimated position is 4 with confidence 96.0390%\n",
      "time 1: pos8, sensed 8, at position 8\n",
      "Estimated position is 8 with confidence 96.8094%\n",
      "time 2: pos2, sensed 2, at position 2\n",
      "Estimated position is 2 with confidence 96.9180%\n",
      "time 3: pos7, sensed 7, at position 7\n",
      "Estimated position is 7 with confidence 52.4061%\n",
      "\n",
      "final postion is  7\n",
      "Estimated position is 7 with confidence 52.4061%\n"
     ]
    },
    {
     "data": {
      "image/png": "[encoded data removed]",
      "text/plain": [
       "<Figure size 432x288 with 1 Axes>"
      ]
     },
     "metadata": {
      "needs_background": "light"
     },
     "output_type": "display_data"
    }
   ],
   "source": [
    "np.random.seed(5)\n",
    "train_filter(4, kernel = [0.1, 0.8, 0.1], sensor_accuracy = 0.9, move_distance = 4, do_print = True)"
   ]
  },
  {
   "cell_type": "code",
   "execution_count": 38,
   "metadata": {},
   "outputs": [
    {
     "data": {
      "image/png": "[encoded data removed]",
      "text/plain": [
       "<Figure size 576x540 with 4 Axes>"
      ]
     },
     "metadata": {
      "needs_background": "light"
     },
     "output_type": "display_data"
    }
   ],
   "source": [
    "with figsize(y = 7.5):\n",
    "    for i in range(4):\n",
    "        np.random.seed(5)\n",
    "        \n",
    "        plt.subplot(221+i)\n",
    "        train_filter(148+i, kernel = [0.1, 0.8, 0.1], sensor_accuracy = 0.8, move_distance = 4, do_print = False)\n",
    "        plt.title('Iteration {}'.format(148+i))"
   ]
  },
  {
   "cell_type": "markdown",
   "metadata": {},
   "source": [
    "$$\\Huge Posterior = \\frac{Likelihood \\times prior}{Normalization \\; factor}$$\n",
    "\n",
    "$$\\Large Updated \\; knowledge = \\lvert\\lvert Likelihood \\; of \\; new \\; knowledge \\times Prior \\; knowledge\\rvert\\rvert$$"
   ]
  },
  {
   "cell_type": "code",
   "execution_count": null,
   "metadata": {},
   "outputs": [],
   "source": []
  }
 ],
 "metadata": {
  "kernelspec": {
   "display_name": "Python 3",
   "language": "python",
   "name": "python3"
  },
  "language_info": {
   "codemirror_mode": {
    "name": "ipython",
    "version": 3
   },
   "file_extension": ".py",
   "mimetype": "text/x-python",
   "name": "python",
   "nbconvert_exporter": "python",
   "pygments_lexer": "ipython3",
   "version": "3.7.4"
  }
 },
 "nbformat": 4,
 "nbformat_minor": 4
}
