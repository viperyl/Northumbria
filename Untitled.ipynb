{
 "cells": [
  {
   "cell_type": "markdown",
   "metadata": {},
   "source": [
    "# Sensor Fusion"
   ]
  },
  {
   "cell_type": "code",
   "execution_count": 1,
   "metadata": {},
   "outputs": [],
   "source": [
    "import numpy as np\n",
    "import pandas as pd"
   ]
  },
  {
   "cell_type": "code",
   "execution_count": 59,
   "metadata": {},
   "outputs": [],
   "source": [
    "Name_R = ['sensor_type', \n",
    "        'rho_measured', \n",
    "        'phi_measured', \n",
    "        'rhodot_measured', \n",
    "        'timestamp', \n",
    "        'x_groundtruth', \n",
    "        'y_groundtruth', \n",
    "        'vx_groundtruth', \n",
    "        'vy_groundtruth', \n",
    "        'yaw_groundtruth', \n",
    "        'yaw_rate_groundtruth']\n",
    "Name_L = ['sensor_type', \n",
    "          'x_measured', \n",
    "          'y_measured', \n",
    "          'timestamp', \n",
    "          'x_groundtruth', \n",
    "          'y_groundtruth', \n",
    "          'vx_groundtruth', \n",
    "          'vy_groundtruth', \n",
    "          'yaw_groundtruth', \n",
    "          'yaw_rate_groundtruth']\n",
    "\n",
    "df_R = pd.DataFrame(columns = Name_R)\n",
    "df_L = pd.DataFrame(columns = Name_L)\n",
    "data_temp = pd.read_csv('obj_pose-laser-radar-synthetic-input.txt',delim_whitespace=True , names = Name_R)\n",
    "\n",
    "for index, row in data_temp.iterrows():\n",
    "    if row[0] == 'L':\n",
    "        df_L = df_L.append(row, ignore_index=True)\n",
    "    else:\n",
    "        df_R = df_R.append(row, ignore_index=True)\n",
    "    \n",
    "    "
   ]
  },
  {
   "cell_type": "code",
   "execution_count": 60,
   "metadata": {},
   "outputs": [
    {
     "name": "stdout",
     "output_type": "stream",
     "text": [
      "(250, 11)\n",
      "(250, 13)\n"
     ]
    }
   ],
   "source": [
    "print(np.shape(df_R))\n",
    "print(np.shape(df_L))"
   ]
  },
  {
   "cell_type": "code",
   "execution_count": null,
   "metadata": {},
   "outputs": [],
   "source": []
  }
 ],
 "metadata": {
  "kernelspec": {
   "display_name": "Python 3",
   "language": "python",
   "name": "python3"
  },
  "language_info": {
   "codemirror_mode": {
    "name": "ipython",
    "version": 3
   },
   "file_extension": ".py",
   "mimetype": "text/x-python",
   "name": "python",
   "nbconvert_exporter": "python",
   "pygments_lexer": "ipython3",
   "version": "3.7.4"
  }
 },
 "nbformat": 4,
 "nbformat_minor": 2
}
