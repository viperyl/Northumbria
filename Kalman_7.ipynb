{
 "cells": [
  {
   "cell_type": "code",
   "execution_count": 1,
   "metadata": {},
   "outputs": [],
   "source": [
    "import numpy as np"
   ]
  },
  {
   "cell_type": "markdown",
   "metadata": {},
   "source": [
    "Newtonian equation\n",
    "\n",
    "$$\n",
    "\\Large\n",
    "\\begin{align}\n",
    "v &= at \\\\\n",
    "x &= \\frac{1}{2}at^{2} + v_{0}t + x_{0}\n",
    "\\end{align}\n",
    "$$\n",
    "\n",
    "Differential form\n",
    "\n",
    "$$\n",
    "\\Large\n",
    "\\begin{align}\n",
    "\\textbf{v} &= \\frac{d\\textbf{x}}{dt} \\\\\n",
    "\\textbf{a} &= \\frac{d\\textbf{v}}{dt} = \\frac{d^{2}\\textbf{v}}{dt^{2}}\n",
    "\\end{align}\n",
    "$$"
   ]
  },
  {
   "cell_type": "markdown",
   "metadata": {},
   "source": [
    "Final consideration of model\n",
    "\n",
    "$$\n",
    "\\Large\n",
    "\\dot{\\textbf{x}}= \\textbf{Ax} + \\textbf{Bu} + \\textbf{w}\n",
    "$$\n",
    "\n",
    "$\n",
    "\\Large\n",
    "\\begin{align}\n",
    "\\textbf{A} &: System\\;dynamicas\\;matrix \\\\\n",
    "\\textbf{w} &: Noise \\\\\n",
    "\\textbf{u} &: Input\\;to\\;the\\;system \\\\\n",
    "\\textbf{B} &: Convert\\;\\textbf{u}\\;into\\;the\\;effect\\;on\\;the\\;system\n",
    "\\end{align}\n",
    "$"
   ]
  },
  {
   "cell_type": "markdown",
   "metadata": {},
   "source": [
    "$$\n",
    "\\Large\n",
    "\\begin{align}\n",
    "\\textbf{x}_{t_{k}} &= \\textbf{F}(\\Delta t)\\textbf{x}(t_{k-1}) + \\textbf{B}(t_{k})\\textbf{u}_{t_{k}} \\\\\n",
    "\\textbf{x}_{k} &= \\textbf{Fx}_{k-1} + \\textbf{B}_{k}\\textbf{u}_{k}\n",
    "\\end{align}\n",
    "$$\n",
    "\n",
    "Here write $\\textbf{x}(t_{k})$ as $\\textbf{x}_{k}$, which means that the value of **x** at the $k^{th}$ value of t.\n"
   ]
  },
  {
   "cell_type": "markdown",
   "metadata": {},
   "source": [
    "### Forming First Order Equation from Higher Order Equations\n",
    "\n",
    "$$\n",
    "\\Large\n",
    "\\begin{align}\n",
    "\\ddot{x} = 6\\dot{x} - 9x + u\n",
    "\\end{align}\n",
    "$$\n",
    "\n",
    "define two new variables:\n",
    "\n",
    "$$\n",
    "\\Large\n",
    "\\begin{align}\n",
    "x_{1}(u) &= x \\\\\n",
    "x_{2}(u) &= \\dot{x}\n",
    "\\end{align}\n",
    "$$\n",
    "\n",
    "Now substitute these into the the original equation and solve:\n",
    "\n",
    "$$\n",
    "\\Large\n",
    "\\begin{align}\n",
    "\\dot{x_{2}} &= \\ddot{x}\\\\\n",
    "&= 6\\dot{x} - 9x + t \\\\\n",
    "&= 6x_{2} - 9x_{1} + t\n",
    "\\end{align}\n",
    "$$\n",
    "\n",
    "Therefore the first-order system of equation is:\n",
    "\n",
    "$$\n",
    "\\Large\n",
    "\\begin{align}\n",
    "\\dot{x}_{1} &= x_{2} \\\\\n",
    "\\dot{x}_{2} &= 6x_{2} - 9x_{1} + t\n",
    "\\end{align}\n",
    "$$"
   ]
  },
  {
   "cell_type": "markdown",
   "metadata": {},
   "source": [
    "### First Order Differential Equations In State-Space Form\n",
    "\n",
    "Assume our models are:\n",
    "\n",
    "$$\n",
    "\\Large\n",
    "a_{n}\\frac{d^{n}y}{dt^{n}} + a_{n-1}\\frac{d^{n-1}y}{dt^{n-1}}+...+a_{2}\\frac{d^{2}y}{dt^{2}} + a_{1}\\frac{d^{1}y}{dt^{1}} + a_{0}= u\n",
    "$$\n",
    "\n",
    "Substituting the newly defined variables from the previous section:\n",
    "$$\n",
    "\\Large\n",
    "\\frac{dx_{1}}{dt} = x_{2},\\frac{dx_{2}}{dt} = x_{3},...,\\frac{dx_{n-1}}{dt} = x_{n}\n",
    "$$\n",
    "\n",
    "Into the first order equations yields:\n",
    "\n",
    "$$\n",
    "\\Large\n",
    "\\frac{dx_{n}}{dt} = \\frac{1}{a_{n}}\\sum^{n-1}_{i=0}a_{i}x_{i+1} + \\frac{1}{a_{n}}u\n",
    "$$"
   ]
  },
  {
   "cell_type": "markdown",
   "metadata": {},
   "source": [
    "### Finding the Fundamental Matrix for Time Invariant Systems\n",
    "\n",
    "system equations in state-space form:\n",
    "\n",
    "$$\n",
    "\\Large\n",
    "\\begin{align}\n",
    "\\dot{\\textbf{x}} = \\textbf{Ax}\n",
    "\\end{align}\n",
    "$$ "
   ]
  },
  {
   "cell_type": "markdown",
   "metadata": {},
   "source": [
    "$$\n",
    "\\Large\n",
    "\\begin{align}\n",
    "\n",
    "\\end{align}\n",
    "$$"
   ]
  }
 ],
 "metadata": {
  "kernelspec": {
   "display_name": "Python 3",
   "language": "python",
   "name": "python3"
  },
  "language_info": {
   "codemirror_mode": {
    "name": "ipython",
    "version": 3
   },
   "file_extension": ".py",
   "mimetype": "text/x-python",
   "name": "python",
   "nbconvert_exporter": "python",
   "pygments_lexer": "ipython3",
   "version": "3.7.4"
  }
 },
 "nbformat": 4,
 "nbformat_minor": 2
}
